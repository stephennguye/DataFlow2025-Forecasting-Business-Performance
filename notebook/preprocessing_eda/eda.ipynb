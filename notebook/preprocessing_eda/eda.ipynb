{
 "cells": [
  {
   "cell_type": "code",
   "execution_count": null,
   "metadata": {},
   "outputs": [],
   "source": [
    "!pip install openpyxl"
   ]
  },
  {
   "cell_type": "code",
   "execution_count": 1,
   "metadata": {},
   "outputs": [],
   "source": [
    "import pandas as pd\n",
    "import numpy as np\n",
    "import seaborn as sns\n",
    "import matplotlib.pyplot as plt\n",
    "import statsmodels as sm\n",
    "import datetime as dt"
   ]
  },
  {
   "cell_type": "code",
   "execution_count": null,
   "metadata": {},
   "outputs": [],
   "source": [
    "df = pd.read_excel(\"FORECASTING BUSINESS PERFORMANCE.xlsx\", sheet_name= None)"
   ]
  },
  {
   "cell_type": "markdown",
   "metadata": {},
   "source": [
    "#### New dataset"
   ]
  },
  {
   "cell_type": "code",
   "execution_count": 5,
   "metadata": {},
   "outputs": [
    {
     "data": {
      "text/plain": [
       "dict_keys(['SalesFact', 'Geography', 'Product'])"
      ]
     },
     "execution_count": 5,
     "metadata": {},
     "output_type": "execute_result"
    }
   ],
   "source": [
    "df.keys()"
   ]
  },
  {
   "cell_type": "code",
   "execution_count": 5,
   "metadata": {},
   "outputs": [],
   "source": [
    "sales = df['SalesFact']\n",
    "geo = df['Geography']\n",
    "product = df['Product']"
   ]
  },
  {
   "cell_type": "markdown",
   "metadata": {},
   "source": [
    "### Test for new dataset Validity"
   ]
  },
  {
   "cell_type": "code",
   "execution_count": 6,
   "metadata": {},
   "outputs": [
    {
     "data": {
      "text/plain": [
       "(976243, 6)"
      ]
     },
     "execution_count": 6,
     "metadata": {},
     "output_type": "execute_result"
    }
   ],
   "source": [
    "sales.shape"
   ]
  },
  {
   "cell_type": "code",
   "execution_count": 7,
   "metadata": {},
   "outputs": [
    {
     "name": "stdout",
     "output_type": "stream",
     "text": [
      "Test: (74682, 6), train: (901561, 6)\n"
     ]
    }
   ],
   "source": [
    "print(f'Test: {sale_test.shape}, train: {sale_train.shape}')"
   ]
  },
  {
   "cell_type": "code",
   "execution_count": 8,
   "metadata": {},
   "outputs": [
    {
     "data": {
      "text/plain": [
       "(901561, 6)"
      ]
     },
     "execution_count": 8,
     "metadata": {},
     "output_type": "execute_result"
    }
   ],
   "source": [
    "sale_train_sample = sales[sales['Date'].dt.year <= 2020]\n",
    "sale_train_sample.shape"
   ]
  },
  {
   "cell_type": "code",
   "execution_count": 7,
   "metadata": {},
   "outputs": [
    {
     "name": "stdout",
     "output_type": "stream",
     "text": [
      "Sales: (976243, 6) \n",
      "Geo: (39948, 5) \n",
      "Product : (2412, 4)\n"
     ]
    }
   ],
   "source": [
    "print(f\"Sales: {sales.shape} \\nGeo: {geo.shape} \\nProduct : {product.shape}\")"
   ]
  },
  {
   "cell_type": "markdown",
   "metadata": {},
   "source": [
    "### Sales Table Summary"
   ]
  },
  {
   "cell_type": "code",
   "execution_count": 10,
   "metadata": {},
   "outputs": [
    {
     "data": {
      "text/plain": [
       "ProductID     0\n",
       "Date          0\n",
       "Zip           0\n",
       "Units         0\n",
       "Revenue      41\n",
       "COGS          0\n",
       "dtype: int64"
      ]
     },
     "execution_count": 10,
     "metadata": {},
     "output_type": "execute_result"
    }
   ],
   "source": [
    "sales.isna().sum()"
   ]
  },
  {
   "cell_type": "code",
   "execution_count": 16,
   "metadata": {},
   "outputs": [
    {
     "data": {
      "image/png": "[encoded data removed]",
      "text/plain": [
       "<Figure size 640x480 with 1 Axes>"
      ]
     },
     "metadata": {},
     "output_type": "display_data"
    }
   ],
   "source": [
    "sns.histplot(sales['Revenue'], kde = True)\n",
    "plt.title(\"Revenue\")\n",
    "plt.show()"
   ]
  },
  {
   "cell_type": "markdown",
   "metadata": {},
   "source": [
    "Revenue is right skewed so we can take the median for NULL handling"
   ]
  },
  {
   "cell_type": "code",
   "execution_count": 9,
   "metadata": {},
   "outputs": [
    {
     "data": {
      "text/plain": [
       "ProductID    0\n",
       "Date         0\n",
       "Zip          0\n",
       "Units        0\n",
       "Revenue      0\n",
       "COGS         0\n",
       "dtype: int64"
      ]
     },
     "execution_count": 9,
     "metadata": {},
     "output_type": "execute_result"
    }
   ],
   "source": [
    "sales['Revenue'] = sales['Revenue'].replace(np.nan, sales['Revenue'].median())\n",
    "sales.isna().sum()"
   ]
  },
  {
   "cell_type": "code",
   "execution_count": 17,
   "metadata": {},
   "outputs": [
    {
     "data": {
      "text/html": [
       "<div>\n",
       "<style scoped>\n",
       "    .dataframe tbody tr th:only-of-type {\n",
       "        vertical-align: middle;\n",
       "    }\n",
       "\n",
       "    .dataframe tbody tr th {\n",
       "        vertical-align: top;\n",
       "    }\n",
       "\n",
       "    .dataframe thead th {\n",
       "        text-align: right;\n",
       "    }\n",
       "</style>\n",
       "<table border=\"1\" class=\"dataframe\">\n",
       "  <thead>\n",
       "    <tr style=\"text-align: right;\">\n",
       "      <th></th>\n",
       "      <th>ProductID</th>\n",
       "      <th>Date</th>\n",
       "      <th>Zip</th>\n",
       "      <th>Units</th>\n",
       "      <th>Revenue</th>\n",
       "      <th>COGS</th>\n",
       "    </tr>\n",
       "  </thead>\n",
       "  <tbody>\n",
       "    <tr>\n",
       "      <th>0</th>\n",
       "      <td>1228</td>\n",
       "      <td>2013-07-31</td>\n",
       "      <td>78773</td>\n",
       "      <td>12</td>\n",
       "      <td>19648.44</td>\n",
       "      <td>12309.747660</td>\n",
       "    </tr>\n",
       "    <tr>\n",
       "      <th>1</th>\n",
       "      <td>781</td>\n",
       "      <td>2014-03-12</td>\n",
       "      <td>90501</td>\n",
       "      <td>16</td>\n",
       "      <td>20351.52</td>\n",
       "      <td>13497.128064</td>\n",
       "    </tr>\n",
       "    <tr>\n",
       "      <th>2</th>\n",
       "      <td>2090</td>\n",
       "      <td>2013-11-29</td>\n",
       "      <td>44460</td>\n",
       "      <td>26</td>\n",
       "      <td>111367.62</td>\n",
       "      <td>91488.499830</td>\n",
       "    </tr>\n",
       "    <tr>\n",
       "      <th>3</th>\n",
       "      <td>1116</td>\n",
       "      <td>2018-08-29</td>\n",
       "      <td>30122</td>\n",
       "      <td>12</td>\n",
       "      <td>36280.44</td>\n",
       "      <td>21967.806420</td>\n",
       "    </tr>\n",
       "    <tr>\n",
       "      <th>4</th>\n",
       "      <td>993</td>\n",
       "      <td>2013-04-27</td>\n",
       "      <td>75789</td>\n",
       "      <td>14</td>\n",
       "      <td>55557.18</td>\n",
       "      <td>48645.866808</td>\n",
       "    </tr>\n",
       "    <tr>\n",
       "      <th>...</th>\n",
       "      <td>...</td>\n",
       "      <td>...</td>\n",
       "      <td>...</td>\n",
       "      <td>...</td>\n",
       "      <td>...</td>\n",
       "      <td>...</td>\n",
       "    </tr>\n",
       "    <tr>\n",
       "      <th>976238</th>\n",
       "      <td>2213</td>\n",
       "      <td>2013-08-12</td>\n",
       "      <td>15135</td>\n",
       "      <td>1</td>\n",
       "      <td>1070.37</td>\n",
       "      <td>749.794185</td>\n",
       "    </tr>\n",
       "    <tr>\n",
       "      <th>976239</th>\n",
       "      <td>2213</td>\n",
       "      <td>2011-12-04</td>\n",
       "      <td>80120</td>\n",
       "      <td>1</td>\n",
       "      <td>1070.37</td>\n",
       "      <td>749.794185</td>\n",
       "    </tr>\n",
       "    <tr>\n",
       "      <th>976240</th>\n",
       "      <td>2213</td>\n",
       "      <td>2011-05-29</td>\n",
       "      <td>30028</td>\n",
       "      <td>1</td>\n",
       "      <td>1070.37</td>\n",
       "      <td>749.794185</td>\n",
       "    </tr>\n",
       "    <tr>\n",
       "      <th>976241</th>\n",
       "      <td>2213</td>\n",
       "      <td>2014-04-01</td>\n",
       "      <td>65279</td>\n",
       "      <td>1</td>\n",
       "      <td>1070.37</td>\n",
       "      <td>749.794185</td>\n",
       "    </tr>\n",
       "    <tr>\n",
       "      <th>976242</th>\n",
       "      <td>2213</td>\n",
       "      <td>2012-12-22</td>\n",
       "      <td>25526</td>\n",
       "      <td>1</td>\n",
       "      <td>1070.37</td>\n",
       "      <td>749.794185</td>\n",
       "    </tr>\n",
       "  </tbody>\n",
       "</table>\n",
       "<p>976243 rows × 6 columns</p>\n",
       "</div>"
      ],
      "text/plain": [
       "        ProductID       Date    Zip  Units    Revenue          COGS\n",
       "0            1228 2013-07-31  78773     12   19648.44  12309.747660\n",
       "1             781 2014-03-12  90501     16   20351.52  13497.128064\n",
       "2            2090 2013-11-29  44460     26  111367.62  91488.499830\n",
       "3            1116 2018-08-29  30122     12   36280.44  21967.806420\n",
       "4             993 2013-04-27  75789     14   55557.18  48645.866808\n",
       "...           ...        ...    ...    ...        ...           ...\n",
       "976238       2213 2013-08-12  15135      1    1070.37    749.794185\n",
       "976239       2213 2011-12-04  80120      1    1070.37    749.794185\n",
       "976240       2213 2011-05-29  30028      1    1070.37    749.794185\n",
       "976241       2213 2014-04-01  65279      1    1070.37    749.794185\n",
       "976242       2213 2012-12-22  25526      1    1070.37    749.794185\n",
       "\n",
       "[976243 rows x 6 columns]"
      ]
     },
     "execution_count": 17,
     "metadata": {},
     "output_type": "execute_result"
    }
   ],
   "source": [
    "sales"
   ]
  },
  {
   "cell_type": "markdown",
   "metadata": {},
   "source": [
    "#### Find relevant information"
   ]
  },
  {
   "cell_type": "code",
   "execution_count": 22,
   "metadata": {},
   "outputs": [
    {
     "name": "stdout",
     "output_type": "stream",
     "text": [
      "From 2010 to 2022\n"
     ]
    }
   ],
   "source": [
    "sales['Year'] = sales['Date'].dt.year\n",
    "\n",
    "print(f\"From {sales['Year'].min()} to {sales['Year'].max()}\")"
   ]
  },
  {
   "cell_type": "code",
   "execution_count": 10,
   "metadata": {},
   "outputs": [],
   "source": [
    "sales['Profit'] = sales['Revenue'] - sales['COGS']"
   ]
  },
  {
   "cell_type": "code",
   "execution_count": null,
   "metadata": {},
   "outputs": [
    {
     "data": {
      "text/html": [
       "<div>\n",
       "<style scoped>\n",
       "    .dataframe tbody tr th:only-of-type {\n",
       "        vertical-align: middle;\n",
       "    }\n",
       "\n",
       "    .dataframe tbody tr th {\n",
       "        vertical-align: top;\n",
       "    }\n",
       "\n",
       "    .dataframe thead th {\n",
       "        text-align: right;\n",
       "    }\n",
       "</style>\n",
       "<table border=\"1\" class=\"dataframe\">\n",
       "  <thead>\n",
       "    <tr style=\"text-align: right;\">\n",
       "      <th></th>\n",
       "      <th>ProductID</th>\n",
       "      <th>Date</th>\n",
       "      <th>Zip</th>\n",
       "      <th>Units</th>\n",
       "      <th>Revenue</th>\n",
       "      <th>COGS</th>\n",
       "      <th>Profit</th>\n",
       "    </tr>\n",
       "  </thead>\n",
       "  <tbody>\n",
       "    <tr>\n",
       "      <th>0</th>\n",
       "      <td>1228</td>\n",
       "      <td>2013-07-31</td>\n",
       "      <td>78773</td>\n",
       "      <td>12</td>\n",
       "      <td>19648.44</td>\n",
       "      <td>12309.747660</td>\n",
       "      <td>7338.692340</td>\n",
       "    </tr>\n",
       "    <tr>\n",
       "      <th>1</th>\n",
       "      <td>781</td>\n",
       "      <td>2014-03-12</td>\n",
       "      <td>90501</td>\n",
       "      <td>16</td>\n",
       "      <td>20351.52</td>\n",
       "      <td>13497.128064</td>\n",
       "      <td>6854.391936</td>\n",
       "    </tr>\n",
       "    <tr>\n",
       "      <th>2</th>\n",
       "      <td>2090</td>\n",
       "      <td>2013-11-29</td>\n",
       "      <td>44460</td>\n",
       "      <td>26</td>\n",
       "      <td>111367.62</td>\n",
       "      <td>91488.499830</td>\n",
       "      <td>19879.120170</td>\n",
       "    </tr>\n",
       "    <tr>\n",
       "      <th>3</th>\n",
       "      <td>1116</td>\n",
       "      <td>2018-08-29</td>\n",
       "      <td>30122</td>\n",
       "      <td>12</td>\n",
       "      <td>36280.44</td>\n",
       "      <td>21967.806420</td>\n",
       "      <td>14312.633580</td>\n",
       "    </tr>\n",
       "    <tr>\n",
       "      <th>4</th>\n",
       "      <td>993</td>\n",
       "      <td>2013-04-27</td>\n",
       "      <td>75789</td>\n",
       "      <td>14</td>\n",
       "      <td>55557.18</td>\n",
       "      <td>48645.866808</td>\n",
       "      <td>6911.313192</td>\n",
       "    </tr>\n",
       "    <tr>\n",
       "      <th>...</th>\n",
       "      <td>...</td>\n",
       "      <td>...</td>\n",
       "      <td>...</td>\n",
       "      <td>...</td>\n",
       "      <td>...</td>\n",
       "      <td>...</td>\n",
       "      <td>...</td>\n",
       "    </tr>\n",
       "    <tr>\n",
       "      <th>976238</th>\n",
       "      <td>2213</td>\n",
       "      <td>2013-08-12</td>\n",
       "      <td>15135</td>\n",
       "      <td>1</td>\n",
       "      <td>1070.37</td>\n",
       "      <td>749.794185</td>\n",
       "      <td>320.575815</td>\n",
       "    </tr>\n",
       "    <tr>\n",
       "      <th>976239</th>\n",
       "      <td>2213</td>\n",
       "      <td>2011-12-04</td>\n",
       "      <td>80120</td>\n",
       "      <td>1</td>\n",
       "      <td>1070.37</td>\n",
       "      <td>749.794185</td>\n",
       "      <td>320.575815</td>\n",
       "    </tr>\n",
       "    <tr>\n",
       "      <th>976240</th>\n",
       "      <td>2213</td>\n",
       "      <td>2011-05-29</td>\n",
       "      <td>30028</td>\n",
       "      <td>1</td>\n",
       "      <td>1070.37</td>\n",
       "      <td>749.794185</td>\n",
       "      <td>320.575815</td>\n",
       "    </tr>\n",
       "    <tr>\n",
       "      <th>976241</th>\n",
       "      <td>2213</td>\n",
       "      <td>2014-04-01</td>\n",
       "      <td>65279</td>\n",
       "      <td>1</td>\n",
       "      <td>1070.37</td>\n",
       "      <td>749.794185</td>\n",
       "      <td>320.575815</td>\n",
       "    </tr>\n",
       "    <tr>\n",
       "      <th>976242</th>\n",
       "      <td>2213</td>\n",
       "      <td>2012-12-22</td>\n",
       "      <td>25526</td>\n",
       "      <td>1</td>\n",
       "      <td>1070.37</td>\n",
       "      <td>749.794185</td>\n",
       "      <td>320.575815</td>\n",
       "    </tr>\n",
       "  </tbody>\n",
       "</table>\n",
       "<p>976243 rows × 7 columns</p>\n",
       "</div>"
      ],
      "text/plain": [
       "        ProductID       Date    Zip  Units    Revenue          COGS  \\\n",
       "0            1228 2013-07-31  78773     12   19648.44  12309.747660   \n",
       "1             781 2014-03-12  90501     16   20351.52  13497.128064   \n",
       "2            2090 2013-11-29  44460     26  111367.62  91488.499830   \n",
       "3            1116 2018-08-29  30122     12   36280.44  21967.806420   \n",
       "4             993 2013-04-27  75789     14   55557.18  48645.866808   \n",
       "...           ...        ...    ...    ...        ...           ...   \n",
       "976238       2213 2013-08-12  15135      1    1070.37    749.794185   \n",
       "976239       2213 2011-12-04  80120      1    1070.37    749.794185   \n",
       "976240       2213 2011-05-29  30028      1    1070.37    749.794185   \n",
       "976241       2213 2014-04-01  65279      1    1070.37    749.794185   \n",
       "976242       2213 2012-12-22  25526      1    1070.37    749.794185   \n",
       "\n",
       "              Profit  \n",
       "0        7338.692340  \n",
       "1        6854.391936  \n",
       "2       19879.120170  \n",
       "3       14312.633580  \n",
       "4        6911.313192  \n",
       "...              ...  \n",
       "976238    320.575815  \n",
       "976239    320.575815  \n",
       "976240    320.575815  \n",
       "976241    320.575815  \n",
       "976242    320.575815  \n",
       "\n",
       "[976243 rows x 7 columns]"
      ]
     },
     "execution_count": 19,
     "metadata": {},
     "output_type": "execute_result"
    }
   ],
   "source": [
    "sales"
   ]
  },
  {
   "cell_type": "markdown",
   "metadata": {},
   "source": [
    "### Geography Table Summary"
   ]
  },
  {
   "cell_type": "code",
   "execution_count": 20,
   "metadata": {},
   "outputs": [
    {
     "data": {
      "text/html": [
       "<div>\n",
       "<style scoped>\n",
       "    .dataframe tbody tr th:only-of-type {\n",
       "        vertical-align: middle;\n",
       "    }\n",
       "\n",
       "    .dataframe tbody tr th {\n",
       "        vertical-align: top;\n",
       "    }\n",
       "\n",
       "    .dataframe thead th {\n",
       "        text-align: right;\n",
       "    }\n",
       "</style>\n",
       "<table border=\"1\" class=\"dataframe\">\n",
       "  <thead>\n",
       "    <tr style=\"text-align: right;\">\n",
       "      <th></th>\n",
       "      <th>Zip</th>\n",
       "      <th>City</th>\n",
       "      <th>State</th>\n",
       "      <th>Region</th>\n",
       "      <th>District</th>\n",
       "    </tr>\n",
       "  </thead>\n",
       "  <tbody>\n",
       "    <tr>\n",
       "      <th>0</th>\n",
       "      <td>15201</td>\n",
       "      <td>Pittsburgh, PA</td>\n",
       "      <td>PA</td>\n",
       "      <td>East</td>\n",
       "      <td>District #13</td>\n",
       "    </tr>\n",
       "    <tr>\n",
       "      <th>1</th>\n",
       "      <td>15202</td>\n",
       "      <td>Pittsburgh, PA</td>\n",
       "      <td>PA</td>\n",
       "      <td>East</td>\n",
       "      <td>District #13</td>\n",
       "    </tr>\n",
       "    <tr>\n",
       "      <th>2</th>\n",
       "      <td>15203</td>\n",
       "      <td>Pittsburgh, PA</td>\n",
       "      <td>PA</td>\n",
       "      <td>East</td>\n",
       "      <td>District #13</td>\n",
       "    </tr>\n",
       "    <tr>\n",
       "      <th>3</th>\n",
       "      <td>15204</td>\n",
       "      <td>Pittsburgh, PA</td>\n",
       "      <td>PA</td>\n",
       "      <td>East</td>\n",
       "      <td>District #13</td>\n",
       "    </tr>\n",
       "    <tr>\n",
       "      <th>4</th>\n",
       "      <td>15205</td>\n",
       "      <td>Pittsburgh, PA</td>\n",
       "      <td>PA</td>\n",
       "      <td>East</td>\n",
       "      <td>District #13</td>\n",
       "    </tr>\n",
       "    <tr>\n",
       "      <th>...</th>\n",
       "      <td>...</td>\n",
       "      <td>...</td>\n",
       "      <td>...</td>\n",
       "      <td>...</td>\n",
       "      <td>...</td>\n",
       "    </tr>\n",
       "    <tr>\n",
       "      <th>39943</th>\n",
       "      <td>59933</td>\n",
       "      <td>Stryker, MT</td>\n",
       "      <td>MT</td>\n",
       "      <td>West</td>\n",
       "      <td>District #33</td>\n",
       "    </tr>\n",
       "    <tr>\n",
       "      <th>39944</th>\n",
       "      <td>59934</td>\n",
       "      <td>Trego, MT</td>\n",
       "      <td>MT</td>\n",
       "      <td>West</td>\n",
       "      <td>District #33</td>\n",
       "    </tr>\n",
       "    <tr>\n",
       "      <th>39945</th>\n",
       "      <td>59935</td>\n",
       "      <td>Troy, MT</td>\n",
       "      <td>MT</td>\n",
       "      <td>West</td>\n",
       "      <td>District #33</td>\n",
       "    </tr>\n",
       "    <tr>\n",
       "      <th>39946</th>\n",
       "      <td>59936</td>\n",
       "      <td>West Glacier, MT</td>\n",
       "      <td>MT</td>\n",
       "      <td>West</td>\n",
       "      <td>District #33</td>\n",
       "    </tr>\n",
       "    <tr>\n",
       "      <th>39947</th>\n",
       "      <td>59937</td>\n",
       "      <td>Whitefish, MT</td>\n",
       "      <td>MT</td>\n",
       "      <td>West</td>\n",
       "      <td>District #33</td>\n",
       "    </tr>\n",
       "  </tbody>\n",
       "</table>\n",
       "<p>39948 rows × 5 columns</p>\n",
       "</div>"
      ],
      "text/plain": [
       "         Zip              City State Region      District\n",
       "0      15201    Pittsburgh, PA    PA   East  District #13\n",
       "1      15202    Pittsburgh, PA    PA   East  District #13\n",
       "2      15203    Pittsburgh, PA    PA   East  District #13\n",
       "3      15204    Pittsburgh, PA    PA   East  District #13\n",
       "4      15205    Pittsburgh, PA    PA   East  District #13\n",
       "...      ...               ...   ...    ...           ...\n",
       "39943  59933       Stryker, MT    MT   West  District #33\n",
       "39944  59934         Trego, MT    MT   West  District #33\n",
       "39945  59935          Troy, MT    MT   West  District #33\n",
       "39946  59936  West Glacier, MT    MT   West  District #33\n",
       "39947  59937     Whitefish, MT    MT   West  District #33\n",
       "\n",
       "[39948 rows x 5 columns]"
      ]
     },
     "execution_count": 20,
     "metadata": {},
     "output_type": "execute_result"
    }
   ],
   "source": [
    "geo"
   ]
  },
  {
   "cell_type": "code",
   "execution_count": 11,
   "metadata": {},
   "outputs": [],
   "source": [
    "geo['City'] = geo['City'].str.split(',').str[0]"
   ]
  },
  {
   "cell_type": "code",
   "execution_count": 24,
   "metadata": {},
   "outputs": [
    {
     "data": {
      "text/html": [
       "<div>\n",
       "<style scoped>\n",
       "    .dataframe tbody tr th:only-of-type {\n",
       "        vertical-align: middle;\n",
       "    }\n",
       "\n",
       "    .dataframe tbody tr th {\n",
       "        vertical-align: top;\n",
       "    }\n",
       "\n",
       "    .dataframe thead th {\n",
       "        text-align: right;\n",
       "    }\n",
       "</style>\n",
       "<table border=\"1\" class=\"dataframe\">\n",
       "  <thead>\n",
       "    <tr style=\"text-align: right;\">\n",
       "      <th></th>\n",
       "      <th>Zip</th>\n",
       "      <th>City</th>\n",
       "      <th>State</th>\n",
       "      <th>Region</th>\n",
       "      <th>District</th>\n",
       "    </tr>\n",
       "  </thead>\n",
       "  <tbody>\n",
       "    <tr>\n",
       "      <th>0</th>\n",
       "      <td>15201</td>\n",
       "      <td>Pittsburgh</td>\n",
       "      <td>PA</td>\n",
       "      <td>East</td>\n",
       "      <td>District #13</td>\n",
       "    </tr>\n",
       "    <tr>\n",
       "      <th>1</th>\n",
       "      <td>15202</td>\n",
       "      <td>Pittsburgh</td>\n",
       "      <td>PA</td>\n",
       "      <td>East</td>\n",
       "      <td>District #13</td>\n",
       "    </tr>\n",
       "    <tr>\n",
       "      <th>2</th>\n",
       "      <td>15203</td>\n",
       "      <td>Pittsburgh</td>\n",
       "      <td>PA</td>\n",
       "      <td>East</td>\n",
       "      <td>District #13</td>\n",
       "    </tr>\n",
       "    <tr>\n",
       "      <th>3</th>\n",
       "      <td>15204</td>\n",
       "      <td>Pittsburgh</td>\n",
       "      <td>PA</td>\n",
       "      <td>East</td>\n",
       "      <td>District #13</td>\n",
       "    </tr>\n",
       "    <tr>\n",
       "      <th>4</th>\n",
       "      <td>15205</td>\n",
       "      <td>Pittsburgh</td>\n",
       "      <td>PA</td>\n",
       "      <td>East</td>\n",
       "      <td>District #13</td>\n",
       "    </tr>\n",
       "    <tr>\n",
       "      <th>...</th>\n",
       "      <td>...</td>\n",
       "      <td>...</td>\n",
       "      <td>...</td>\n",
       "      <td>...</td>\n",
       "      <td>...</td>\n",
       "    </tr>\n",
       "    <tr>\n",
       "      <th>39943</th>\n",
       "      <td>59933</td>\n",
       "      <td>Stryker</td>\n",
       "      <td>MT</td>\n",
       "      <td>West</td>\n",
       "      <td>District #33</td>\n",
       "    </tr>\n",
       "    <tr>\n",
       "      <th>39944</th>\n",
       "      <td>59934</td>\n",
       "      <td>Trego</td>\n",
       "      <td>MT</td>\n",
       "      <td>West</td>\n",
       "      <td>District #33</td>\n",
       "    </tr>\n",
       "    <tr>\n",
       "      <th>39945</th>\n",
       "      <td>59935</td>\n",
       "      <td>Troy</td>\n",
       "      <td>MT</td>\n",
       "      <td>West</td>\n",
       "      <td>District #33</td>\n",
       "    </tr>\n",
       "    <tr>\n",
       "      <th>39946</th>\n",
       "      <td>59936</td>\n",
       "      <td>West Glacier</td>\n",
       "      <td>MT</td>\n",
       "      <td>West</td>\n",
       "      <td>District #33</td>\n",
       "    </tr>\n",
       "    <tr>\n",
       "      <th>39947</th>\n",
       "      <td>59937</td>\n",
       "      <td>Whitefish</td>\n",
       "      <td>MT</td>\n",
       "      <td>West</td>\n",
       "      <td>District #33</td>\n",
       "    </tr>\n",
       "  </tbody>\n",
       "</table>\n",
       "<p>39948 rows × 5 columns</p>\n",
       "</div>"
      ],
      "text/plain": [
       "         Zip          City State Region      District\n",
       "0      15201    Pittsburgh    PA   East  District #13\n",
       "1      15202    Pittsburgh    PA   East  District #13\n",
       "2      15203    Pittsburgh    PA   East  District #13\n",
       "3      15204    Pittsburgh    PA   East  District #13\n",
       "4      15205    Pittsburgh    PA   East  District #13\n",
       "...      ...           ...   ...    ...           ...\n",
       "39943  59933       Stryker    MT   West  District #33\n",
       "39944  59934         Trego    MT   West  District #33\n",
       "39945  59935          Troy    MT   West  District #33\n",
       "39946  59936  West Glacier    MT   West  District #33\n",
       "39947  59937     Whitefish    MT   West  District #33\n",
       "\n",
       "[39948 rows x 5 columns]"
      ]
     },
     "execution_count": 24,
     "metadata": {},
     "output_type": "execute_result"
    }
   ],
   "source": [
    "geo"
   ]
  },
  {
   "cell_type": "code",
   "execution_count": 12,
   "metadata": {},
   "outputs": [],
   "source": [
    "geo['District'] = geo['District'].str.split('#').str[1]"
   ]
  },
  {
   "cell_type": "code",
   "execution_count": 26,
   "metadata": {},
   "outputs": [
    {
     "data": {
      "text/html": [
       "<div>\n",
       "<style scoped>\n",
       "    .dataframe tbody tr th:only-of-type {\n",
       "        vertical-align: middle;\n",
       "    }\n",
       "\n",
       "    .dataframe tbody tr th {\n",
       "        vertical-align: top;\n",
       "    }\n",
       "\n",
       "    .dataframe thead th {\n",
       "        text-align: right;\n",
       "    }\n",
       "</style>\n",
       "<table border=\"1\" class=\"dataframe\">\n",
       "  <thead>\n",
       "    <tr style=\"text-align: right;\">\n",
       "      <th></th>\n",
       "      <th>Zip</th>\n",
       "      <th>City</th>\n",
       "      <th>State</th>\n",
       "      <th>Region</th>\n",
       "      <th>District</th>\n",
       "    </tr>\n",
       "  </thead>\n",
       "  <tbody>\n",
       "    <tr>\n",
       "      <th>0</th>\n",
       "      <td>15201</td>\n",
       "      <td>Pittsburgh</td>\n",
       "      <td>PA</td>\n",
       "      <td>East</td>\n",
       "      <td>13</td>\n",
       "    </tr>\n",
       "    <tr>\n",
       "      <th>1</th>\n",
       "      <td>15202</td>\n",
       "      <td>Pittsburgh</td>\n",
       "      <td>PA</td>\n",
       "      <td>East</td>\n",
       "      <td>13</td>\n",
       "    </tr>\n",
       "    <tr>\n",
       "      <th>2</th>\n",
       "      <td>15203</td>\n",
       "      <td>Pittsburgh</td>\n",
       "      <td>PA</td>\n",
       "      <td>East</td>\n",
       "      <td>13</td>\n",
       "    </tr>\n",
       "    <tr>\n",
       "      <th>3</th>\n",
       "      <td>15204</td>\n",
       "      <td>Pittsburgh</td>\n",
       "      <td>PA</td>\n",
       "      <td>East</td>\n",
       "      <td>13</td>\n",
       "    </tr>\n",
       "    <tr>\n",
       "      <th>4</th>\n",
       "      <td>15205</td>\n",
       "      <td>Pittsburgh</td>\n",
       "      <td>PA</td>\n",
       "      <td>East</td>\n",
       "      <td>13</td>\n",
       "    </tr>\n",
       "    <tr>\n",
       "      <th>...</th>\n",
       "      <td>...</td>\n",
       "      <td>...</td>\n",
       "      <td>...</td>\n",
       "      <td>...</td>\n",
       "      <td>...</td>\n",
       "    </tr>\n",
       "    <tr>\n",
       "      <th>39943</th>\n",
       "      <td>59933</td>\n",
       "      <td>Stryker</td>\n",
       "      <td>MT</td>\n",
       "      <td>West</td>\n",
       "      <td>33</td>\n",
       "    </tr>\n",
       "    <tr>\n",
       "      <th>39944</th>\n",
       "      <td>59934</td>\n",
       "      <td>Trego</td>\n",
       "      <td>MT</td>\n",
       "      <td>West</td>\n",
       "      <td>33</td>\n",
       "    </tr>\n",
       "    <tr>\n",
       "      <th>39945</th>\n",
       "      <td>59935</td>\n",
       "      <td>Troy</td>\n",
       "      <td>MT</td>\n",
       "      <td>West</td>\n",
       "      <td>33</td>\n",
       "    </tr>\n",
       "    <tr>\n",
       "      <th>39946</th>\n",
       "      <td>59936</td>\n",
       "      <td>West Glacier</td>\n",
       "      <td>MT</td>\n",
       "      <td>West</td>\n",
       "      <td>33</td>\n",
       "    </tr>\n",
       "    <tr>\n",
       "      <th>39947</th>\n",
       "      <td>59937</td>\n",
       "      <td>Whitefish</td>\n",
       "      <td>MT</td>\n",
       "      <td>West</td>\n",
       "      <td>33</td>\n",
       "    </tr>\n",
       "  </tbody>\n",
       "</table>\n",
       "<p>39948 rows × 5 columns</p>\n",
       "</div>"
      ],
      "text/plain": [
       "         Zip          City State Region District\n",
       "0      15201    Pittsburgh    PA   East       13\n",
       "1      15202    Pittsburgh    PA   East       13\n",
       "2      15203    Pittsburgh    PA   East       13\n",
       "3      15204    Pittsburgh    PA   East       13\n",
       "4      15205    Pittsburgh    PA   East       13\n",
       "...      ...           ...   ...    ...      ...\n",
       "39943  59933       Stryker    MT   West       33\n",
       "39944  59934         Trego    MT   West       33\n",
       "39945  59935          Troy    MT   West       33\n",
       "39946  59936  West Glacier    MT   West       33\n",
       "39947  59937     Whitefish    MT   West       33\n",
       "\n",
       "[39948 rows x 5 columns]"
      ]
     },
     "execution_count": 26,
     "metadata": {},
     "output_type": "execute_result"
    }
   ],
   "source": [
    "geo"
   ]
  },
  {
   "cell_type": "code",
   "execution_count": 47,
   "metadata": {},
   "outputs": [
    {
     "data": {
      "text/plain": [
       "City\n",
       "Washington                  297\n",
       "Houston                     188\n",
       "New York                    149\n",
       "El Paso                     140\n",
       "Dallas                      114\n",
       "                           ... \n",
       "Padre Island Ntl Seashor      1\n",
       "Lakeport                      1\n",
       "Toyahvale                     1\n",
       "Wickett                       1\n",
       "Whitefish                     1\n",
       "Name: count, Length: 18145, dtype: int64"
      ]
     },
     "execution_count": 47,
     "metadata": {},
     "output_type": "execute_result"
    }
   ],
   "source": [
    "geo['City'].value_counts().sort_values(ascending = False)"
   ]
  },
  {
   "cell_type": "markdown",
   "metadata": {},
   "source": [
    "We can see the top 5 City with the most purchase"
   ]
  },
  {
   "cell_type": "code",
   "execution_count": 13,
   "metadata": {},
   "outputs": [],
   "source": [
    "sales = pd.merge(sales, geo, on = 'Zip', how = 'left')"
   ]
  },
  {
   "cell_type": "code",
   "execution_count": 10,
   "metadata": {},
   "outputs": [
    {
     "data": {
      "text/html": [
       "<div>\n",
       "<style scoped>\n",
       "    .dataframe tbody tr th:only-of-type {\n",
       "        vertical-align: middle;\n",
       "    }\n",
       "\n",
       "    .dataframe tbody tr th {\n",
       "        vertical-align: top;\n",
       "    }\n",
       "\n",
       "    .dataframe thead th {\n",
       "        text-align: right;\n",
       "    }\n",
       "</style>\n",
       "<table border=\"1\" class=\"dataframe\">\n",
       "  <thead>\n",
       "    <tr style=\"text-align: right;\">\n",
       "      <th></th>\n",
       "      <th>ProductID</th>\n",
       "      <th>Date</th>\n",
       "      <th>Zip</th>\n",
       "      <th>Units</th>\n",
       "      <th>Revenue</th>\n",
       "      <th>COGS</th>\n",
       "      <th>Profit</th>\n",
       "      <th>City</th>\n",
       "      <th>State</th>\n",
       "      <th>Region</th>\n",
       "      <th>District</th>\n",
       "    </tr>\n",
       "  </thead>\n",
       "  <tbody>\n",
       "    <tr>\n",
       "      <th>0</th>\n",
       "      <td>1228</td>\n",
       "      <td>2013-07-31</td>\n",
       "      <td>78773</td>\n",
       "      <td>12</td>\n",
       "      <td>19648.44</td>\n",
       "      <td>12309.747660</td>\n",
       "      <td>7338.692340</td>\n",
       "      <td>Austin</td>\n",
       "      <td>TX</td>\n",
       "      <td>Central</td>\n",
       "      <td>23</td>\n",
       "    </tr>\n",
       "    <tr>\n",
       "      <th>1</th>\n",
       "      <td>781</td>\n",
       "      <td>2014-03-12</td>\n",
       "      <td>90501</td>\n",
       "      <td>16</td>\n",
       "      <td>20351.52</td>\n",
       "      <td>13497.128064</td>\n",
       "      <td>6854.391936</td>\n",
       "      <td>Torrance</td>\n",
       "      <td>CA</td>\n",
       "      <td>West</td>\n",
       "      <td>37</td>\n",
       "    </tr>\n",
       "    <tr>\n",
       "      <th>2</th>\n",
       "      <td>2090</td>\n",
       "      <td>2013-11-29</td>\n",
       "      <td>44460</td>\n",
       "      <td>26</td>\n",
       "      <td>111367.62</td>\n",
       "      <td>91488.499830</td>\n",
       "      <td>19879.120170</td>\n",
       "      <td>Salem</td>\n",
       "      <td>OH</td>\n",
       "      <td>East</td>\n",
       "      <td>14</td>\n",
       "    </tr>\n",
       "    <tr>\n",
       "      <th>3</th>\n",
       "      <td>1116</td>\n",
       "      <td>2018-08-29</td>\n",
       "      <td>30122</td>\n",
       "      <td>12</td>\n",
       "      <td>36280.44</td>\n",
       "      <td>21967.806420</td>\n",
       "      <td>14312.633580</td>\n",
       "      <td>Lithia Springs</td>\n",
       "      <td>GA</td>\n",
       "      <td>East</td>\n",
       "      <td>09</td>\n",
       "    </tr>\n",
       "    <tr>\n",
       "      <th>4</th>\n",
       "      <td>993</td>\n",
       "      <td>2013-04-27</td>\n",
       "      <td>75789</td>\n",
       "      <td>14</td>\n",
       "      <td>55557.18</td>\n",
       "      <td>48645.866808</td>\n",
       "      <td>6911.313192</td>\n",
       "      <td>Troup</td>\n",
       "      <td>TX</td>\n",
       "      <td>Central</td>\n",
       "      <td>24</td>\n",
       "    </tr>\n",
       "    <tr>\n",
       "      <th>...</th>\n",
       "      <td>...</td>\n",
       "      <td>...</td>\n",
       "      <td>...</td>\n",
       "      <td>...</td>\n",
       "      <td>...</td>\n",
       "      <td>...</td>\n",
       "      <td>...</td>\n",
       "      <td>...</td>\n",
       "      <td>...</td>\n",
       "      <td>...</td>\n",
       "      <td>...</td>\n",
       "    </tr>\n",
       "    <tr>\n",
       "      <th>976238</th>\n",
       "      <td>2213</td>\n",
       "      <td>2013-08-12</td>\n",
       "      <td>15135</td>\n",
       "      <td>1</td>\n",
       "      <td>1070.37</td>\n",
       "      <td>749.794185</td>\n",
       "      <td>320.575815</td>\n",
       "      <td>Mckeesport</td>\n",
       "      <td>PA</td>\n",
       "      <td>East</td>\n",
       "      <td>13</td>\n",
       "    </tr>\n",
       "    <tr>\n",
       "      <th>976239</th>\n",
       "      <td>2213</td>\n",
       "      <td>2011-12-04</td>\n",
       "      <td>80120</td>\n",
       "      <td>1</td>\n",
       "      <td>1070.37</td>\n",
       "      <td>749.794185</td>\n",
       "      <td>320.575815</td>\n",
       "      <td>Littleton</td>\n",
       "      <td>CO</td>\n",
       "      <td>Central</td>\n",
       "      <td>20</td>\n",
       "    </tr>\n",
       "    <tr>\n",
       "      <th>976240</th>\n",
       "      <td>2213</td>\n",
       "      <td>2011-05-29</td>\n",
       "      <td>30028</td>\n",
       "      <td>1</td>\n",
       "      <td>1070.37</td>\n",
       "      <td>749.794185</td>\n",
       "      <td>320.575815</td>\n",
       "      <td>Cumming</td>\n",
       "      <td>GA</td>\n",
       "      <td>East</td>\n",
       "      <td>09</td>\n",
       "    </tr>\n",
       "    <tr>\n",
       "      <th>976241</th>\n",
       "      <td>2213</td>\n",
       "      <td>2014-04-01</td>\n",
       "      <td>65279</td>\n",
       "      <td>1</td>\n",
       "      <td>1070.37</td>\n",
       "      <td>749.794185</td>\n",
       "      <td>320.575815</td>\n",
       "      <td>Rocheport</td>\n",
       "      <td>MO</td>\n",
       "      <td>Central</td>\n",
       "      <td>29</td>\n",
       "    </tr>\n",
       "    <tr>\n",
       "      <th>976242</th>\n",
       "      <td>2213</td>\n",
       "      <td>2012-12-22</td>\n",
       "      <td>25526</td>\n",
       "      <td>1</td>\n",
       "      <td>1070.37</td>\n",
       "      <td>749.794185</td>\n",
       "      <td>320.575815</td>\n",
       "      <td>Hurricane</td>\n",
       "      <td>WV</td>\n",
       "      <td>East</td>\n",
       "      <td>15</td>\n",
       "    </tr>\n",
       "  </tbody>\n",
       "</table>\n",
       "<p>976243 rows × 11 columns</p>\n",
       "</div>"
      ],
      "text/plain": [
       "        ProductID       Date    Zip  Units    Revenue          COGS  \\\n",
       "0            1228 2013-07-31  78773     12   19648.44  12309.747660   \n",
       "1             781 2014-03-12  90501     16   20351.52  13497.128064   \n",
       "2            2090 2013-11-29  44460     26  111367.62  91488.499830   \n",
       "3            1116 2018-08-29  30122     12   36280.44  21967.806420   \n",
       "4             993 2013-04-27  75789     14   55557.18  48645.866808   \n",
       "...           ...        ...    ...    ...        ...           ...   \n",
       "976238       2213 2013-08-12  15135      1    1070.37    749.794185   \n",
       "976239       2213 2011-12-04  80120      1    1070.37    749.794185   \n",
       "976240       2213 2011-05-29  30028      1    1070.37    749.794185   \n",
       "976241       2213 2014-04-01  65279      1    1070.37    749.794185   \n",
       "976242       2213 2012-12-22  25526      1    1070.37    749.794185   \n",
       "\n",
       "              Profit            City State   Region District  \n",
       "0        7338.692340          Austin    TX  Central       23  \n",
       "1        6854.391936        Torrance    CA     West       37  \n",
       "2       19879.120170           Salem    OH     East       14  \n",
       "3       14312.633580  Lithia Springs    GA     East       09  \n",
       "4        6911.313192           Troup    TX  Central       24  \n",
       "...              ...             ...   ...      ...      ...  \n",
       "976238    320.575815      Mckeesport    PA     East       13  \n",
       "976239    320.575815       Littleton    CO  Central       20  \n",
       "976240    320.575815         Cumming    GA     East       09  \n",
       "976241    320.575815       Rocheport    MO  Central       29  \n",
       "976242    320.575815       Hurricane    WV     East       15  \n",
       "\n",
       "[976243 rows x 11 columns]"
      ]
     },
     "execution_count": 10,
     "metadata": {},
     "output_type": "execute_result"
    }
   ],
   "source": [
    "sales"
   ]
  },
  {
   "cell_type": "code",
   "execution_count": 11,
   "metadata": {},
   "outputs": [
    {
     "data": {
      "text/plain": [
       "ProductID    0\n",
       "Date         0\n",
       "Zip          0\n",
       "Units        0\n",
       "Revenue      0\n",
       "COGS         0\n",
       "Profit       0\n",
       "City         0\n",
       "State        0\n",
       "Region       0\n",
       "District     0\n",
       "dtype: int64"
      ]
     },
     "execution_count": 11,
     "metadata": {},
     "output_type": "execute_result"
    }
   ],
   "source": [
    "sales.isna().sum()"
   ]
  },
  {
   "cell_type": "code",
   "execution_count": 14,
   "metadata": {},
   "outputs": [],
   "source": [
    "sales = sales.drop(['State', 'District', 'Zip'], axis = 1)"
   ]
  },
  {
   "cell_type": "code",
   "execution_count": 16,
   "metadata": {},
   "outputs": [
    {
     "name": "stdout",
     "output_type": "stream",
     "text": [
      "train: (901561, 8), test: (74682, 8)\n"
     ]
    }
   ],
   "source": [
    "train = sales[sales['Date'].dt.year <= 2020]\n",
    "test = sales [sales['Date'].dt.year >= 2021]\n",
    "\n",
    "print(f'train: {train.shape}, test: {test.shape}')"
   ]
  },
  {
   "cell_type": "markdown",
   "metadata": {},
   "source": [
    "### Product Table Summary"
   ]
  },
  {
   "cell_type": "code",
   "execution_count": null,
   "metadata": {},
   "outputs": [
    {
     "data": {
      "text/html": [
       "<div>\n",
       "<style scoped>\n",
       "    .dataframe tbody tr th:only-of-type {\n",
       "        vertical-align: middle;\n",
       "    }\n",
       "\n",
       "    .dataframe tbody tr th {\n",
       "        vertical-align: top;\n",
       "    }\n",
       "\n",
       "    .dataframe thead th {\n",
       "        text-align: right;\n",
       "    }\n",
       "</style>\n",
       "<table border=\"1\" class=\"dataframe\">\n",
       "  <thead>\n",
       "    <tr style=\"text-align: right;\">\n",
       "      <th></th>\n",
       "      <th>Category</th>\n",
       "      <th>Segment</th>\n",
       "      <th>Product</th>\n",
       "      <th>ProductID</th>\n",
       "    </tr>\n",
       "  </thead>\n",
       "  <tbody>\n",
       "    <tr>\n",
       "      <th>0</th>\n",
       "      <td>Urban</td>\n",
       "      <td>Convenience</td>\n",
       "      <td>Maximus UC-01</td>\n",
       "      <td>536</td>\n",
       "    </tr>\n",
       "    <tr>\n",
       "      <th>1</th>\n",
       "      <td>Urban</td>\n",
       "      <td>Convenience</td>\n",
       "      <td>Maximus UC-02</td>\n",
       "      <td>537</td>\n",
       "    </tr>\n",
       "    <tr>\n",
       "      <th>2</th>\n",
       "      <td>Urban</td>\n",
       "      <td>Convenience</td>\n",
       "      <td>Maximus UC-03</td>\n",
       "      <td>538</td>\n",
       "    </tr>\n",
       "    <tr>\n",
       "      <th>3</th>\n",
       "      <td>Urban</td>\n",
       "      <td>Convenience</td>\n",
       "      <td>Maximus UC-04</td>\n",
       "      <td>539</td>\n",
       "    </tr>\n",
       "    <tr>\n",
       "      <th>4</th>\n",
       "      <td>Urban</td>\n",
       "      <td>Convenience</td>\n",
       "      <td>Maximus UC-05</td>\n",
       "      <td>540</td>\n",
       "    </tr>\n",
       "    <tr>\n",
       "      <th>...</th>\n",
       "      <td>...</td>\n",
       "      <td>...</td>\n",
       "      <td>...</td>\n",
       "      <td>...</td>\n",
       "    </tr>\n",
       "    <tr>\n",
       "      <th>2407</th>\n",
       "      <td>Mix</td>\n",
       "      <td>Productivity</td>\n",
       "      <td>Quibus MP-28</td>\n",
       "      <td>1260</td>\n",
       "    </tr>\n",
       "    <tr>\n",
       "      <th>2408</th>\n",
       "      <td>Mix</td>\n",
       "      <td>Productivity</td>\n",
       "      <td>Quibus MP-29</td>\n",
       "      <td>1261</td>\n",
       "    </tr>\n",
       "    <tr>\n",
       "      <th>2409</th>\n",
       "      <td>Mix</td>\n",
       "      <td>Productivity</td>\n",
       "      <td>Quibus MP-30</td>\n",
       "      <td>1262</td>\n",
       "    </tr>\n",
       "    <tr>\n",
       "      <th>2410</th>\n",
       "      <td>Mix</td>\n",
       "      <td>Productivity</td>\n",
       "      <td>Quibus MP-31</td>\n",
       "      <td>1263</td>\n",
       "    </tr>\n",
       "    <tr>\n",
       "      <th>2411</th>\n",
       "      <td>Mix</td>\n",
       "      <td>Productivity</td>\n",
       "      <td>Quibus MP-32</td>\n",
       "      <td>1264</td>\n",
       "    </tr>\n",
       "  </tbody>\n",
       "</table>\n",
       "<p>2412 rows × 4 columns</p>\n",
       "</div>"
      ],
      "text/plain": [
       "     Category       Segment        Product  ProductID\n",
       "0       Urban   Convenience  Maximus UC-01        536\n",
       "1       Urban   Convenience  Maximus UC-02        537\n",
       "2       Urban   Convenience  Maximus UC-03        538\n",
       "3       Urban   Convenience  Maximus UC-04        539\n",
       "4       Urban   Convenience  Maximus UC-05        540\n",
       "...       ...           ...            ...        ...\n",
       "2407      Mix  Productivity   Quibus MP-28       1260\n",
       "2408      Mix  Productivity   Quibus MP-29       1261\n",
       "2409      Mix  Productivity   Quibus MP-30       1262\n",
       "2410      Mix  Productivity   Quibus MP-31       1263\n",
       "2411      Mix  Productivity   Quibus MP-32       1264\n",
       "\n",
       "[2412 rows x 4 columns]"
      ]
     },
     "execution_count": 48,
     "metadata": {},
     "output_type": "execute_result"
    }
   ],
   "source": [
    "product"
   ]
  },
  {
   "cell_type": "code",
   "execution_count": 49,
   "metadata": {},
   "outputs": [
    {
     "data": {
      "text/plain": [
       "Category     0\n",
       "Segment      0\n",
       "Product      0\n",
       "ProductID    0\n",
       "dtype: int64"
      ]
     },
     "execution_count": 49,
     "metadata": {},
     "output_type": "execute_result"
    }
   ],
   "source": [
    "product.isna().sum()"
   ]
  },
  {
   "cell_type": "code",
   "execution_count": 58,
   "metadata": {},
   "outputs": [
    {
     "data": {
      "text/plain": [
       "Text(0.5, 1.0, 'Segment')"
      ]
     },
     "execution_count": 58,
     "metadata": {},
     "output_type": "execute_result"
    },
    {
     "data": {
      "image/png": "[encoded data removed]",
      "text/plain": [
       "<Figure size 640x480 with 2 Axes>"
      ]
     },
     "metadata": {},
     "output_type": "display_data"
    }
   ],
   "source": [
    "plt.subplot(2,2,1)\n",
    "plt.pie(product['Category'].value_counts(), autopct= '%1.1f%%', labels=product['Category'].value_counts().index)\n",
    "plt.title('Category')\n",
    "\n",
    "\n",
    "plt.subplot(2,2,2)\n",
    "plt.pie(product['Segment'].value_counts(), autopct= '%1.1f%%', labels=product['Segment'].value_counts().index)\n",
    "plt.title('Segment')"
   ]
  },
  {
   "cell_type": "code",
   "execution_count": 51,
   "metadata": {},
   "outputs": [
    {
     "data": {
      "text/plain": [
       "Segment\n",
       "Productivity    598\n",
       "Convenience     405\n",
       "Extreme         347\n",
       "Moderation      306\n",
       "Regular         262\n",
       "Select          177\n",
       "All Season      169\n",
       "Youth           148\n",
       "Name: count, dtype: int64"
      ]
     },
     "execution_count": 51,
     "metadata": {},
     "output_type": "execute_result"
    }
   ],
   "source": [
    "product['Segment'].value_counts()"
   ]
  }
 ],
 "metadata": {
  "kernelspec": {
   "display_name": "Python 3",
   "language": "python",
   "name": "python3"
  },
  "language_info": {
   "codemirror_mode": {
    "name": "ipython",
    "version": 3
   },
   "file_extension": ".py",
   "mimetype": "text/x-python",
   "name": "python",
   "nbconvert_exporter": "python",
   "pygments_lexer": "ipython3",
   "version": "3.12.9"
  }
 },
 "nbformat": 4,
 "nbformat_minor": 2
}
