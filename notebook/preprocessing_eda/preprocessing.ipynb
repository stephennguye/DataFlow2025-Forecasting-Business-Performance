{
 "cells": [
  {
   "cell_type": "markdown",
   "metadata": {},
   "source": [
    "### Import relevant libraries"
   ]
  },
  {
   "cell_type": "code",
   "execution_count": null,
   "metadata": {},
   "outputs": [],
   "source": [
    "!pip install openpyxl"
   ]
  },
  {
   "cell_type": "code",
   "execution_count": 1,
   "metadata": {},
   "outputs": [],
   "source": [
    "import pandas as pd\n",
    "import numpy as np\n",
    "import seaborn as sns\n",
    "import matplotlib.pyplot as plt\n",
    "import statsmodels as sm\n",
    "import datetime as dt\n",
    "import plotly.express as px"
   ]
  },
  {
   "cell_type": "markdown",
   "metadata": {},
   "source": [
    "### Import Dataset(Raw)"
   ]
  },
  {
   "cell_type": "code",
   "execution_count": 3,
   "metadata": {},
   "outputs": [],
   "source": [
    "df = pd.read_excel(\"D:/Study/Education/Projects/DataFlow2025/Data/FORECASTING BUSINESS PERFORMANCE.xlsx\", sheet_name= None)"
   ]
  },
  {
   "cell_type": "markdown",
   "metadata": {},
   "source": [
    "### Clean and transform data"
   ]
  },
  {
   "cell_type": "code",
   "execution_count": 4,
   "metadata": {},
   "outputs": [],
   "source": [
    "#Split into 3 different DataFrames\n",
    "sales = df['SalesFact']\n",
    "geo = df['Geography']\n",
    "product = df['Product']\n",
    "\n",
    "#Convert Date column into datetime format\n",
    "sales['Date'] = pd.to_datetime(sales['Date'])\n",
    "\n",
    "#Handle null in Revenue\n",
    "sales['Revenue'] = sales['Revenue'].replace(np.nan, sales['Revenue'].median())\n",
    "\n",
    "#Add column profit\n",
    "sales['Profit'] = sales['Revenue'] - sales['COGS']\n",
    "\n",
    "#Split City in Geography\n",
    "geo['City'] = geo['City'].str.split(',').str[0]\n",
    "\n",
    "#Split District in Geography\n",
    "geo['District'] = geo['District'].str.split('#').str[1]\n",
    "\n",
    "#Join Sales and Geo into 1\n",
    "sales = pd.merge(sales, geo, on = 'Zip', how = 'left')\n",
    "\n",
    "#Delete some columns in Sales table\n",
    "sales = sales.drop(['State', 'District', 'Zip'], axis = 1)\n",
    "\n",
    "#Join Sals and Product\n",
    "sales = pd.merge(sales, product, on = 'ProductID', how = 'left')\n",
    "\n",
    "#Get product brand\n",
    "sales['Product_Brand'] = sales['Product'].str.split(' ').str[0]\n",
    "\n",
    "#Delete some columns\n",
    "sales = sales.drop(['Product', 'ProductID','Unnamed: 6'], axis = 1)\n",
    "\n",
    "sales['Month'] = sales['Date'].dt.month\n",
    "sales['Year'] = sales['Date'].dt.year\n",
    "sales['Day'] = sales['Date'].dt.day\n",
    "\n",
    "#Split sales into train and test\n",
    "train = sales[sales['Date'].dt.year <= 2020]\n",
    "test = sales [sales['Date'].dt.year >= 2021]"
   ]
  },
  {
   "cell_type": "code",
   "execution_count": null,
   "metadata": {},
   "outputs": [],
   "source": [
    "def plot_passenger_volumes(df: pd.DataFrame,\n",
    "                           y: str) -> None:\n",
    "    \"\"\"General function to plot the passenger data.\"\"\"\n",
    "\n",
    "    fig = px.line(df, x='Date', y=y, labels={'Date': 'Date'})\n",
    "    fig.update_layout(template=\"simple_white\", font=dict(size=18), title_text='Sale Profit',\n",
    "                      width=650, title_x=0.5, height=400)\n",
    "\n",
    "    return fig.show()\n",
    "\n",
    "\n",
    "# Plot the airline passenger data\n",
    "plot_passenger_volumes(df=train, y='Profit')"
   ]
  },
  {
   "cell_type": "code",
   "execution_count": 5,
   "metadata": {},
   "outputs": [],
   "source": [
    "sales.to_csv('analysis_data.csv')"
   ]
  }
 ],
 "metadata": {
  "kernelspec": {
   "display_name": "Python 3",
   "language": "python",
   "name": "python3"
  },
  "language_info": {
   "codemirror_mode": {
    "name": "ipython",
    "version": 3
   },
   "file_extension": ".py",
   "mimetype": "text/x-python",
   "name": "python",
   "nbconvert_exporter": "python",
   "pygments_lexer": "ipython3",
   "version": "3.12.9"
  }
 },
 "nbformat": 4,
 "nbformat_minor": 2
}
